{
 "cells": [
  {
   "cell_type": "code",
   "execution_count": 30,
   "id": "b1a83436",
   "metadata": {},
   "outputs": [
    {
     "name": "stdout",
     "output_type": "stream",
     "text": [
      "Requirement already satisfied: pyngrok in d:\\anacoda\\lib\\site-packages (5.2.1)\n",
      "Requirement already satisfied: PyYAML in d:\\anacoda\\lib\\site-packages (from pyngrok) (6.0)\n"
     ]
    }
   ],
   "source": [
    "!pip install pyngrok"
   ]
  },
  {
   "cell_type": "code",
   "execution_count": 31,
   "id": "94c7626f",
   "metadata": {},
   "outputs": [],
   "source": [
    "from pyngrok import ngrok\n",
    "port_no=7000"
   ]
  },
  {
   "cell_type": "code",
   "execution_count": 15,
   "id": "5cee5ae7",
   "metadata": {},
   "outputs": [
    {
     "data": {
      "text/plain": [
       "<function pyngrok.ngrok.kill(pyngrok_config=None)>"
      ]
     },
     "execution_count": 15,
     "metadata": {},
     "output_type": "execute_result"
    }
   ],
   "source": []
  },
  {
   "cell_type": "code",
   "execution_count": 35,
   "id": "fa540d69",
   "metadata": {},
   "outputs": [
    {
     "name": "stdout",
     "output_type": "stream",
     "text": [
      "To access the global link please click http://d1ae-39-46-47-75.ngrok.io\n",
      " * Serving Flask app \"__main__\" (lazy loading)\n",
      " * Environment: production\n",
      "\u001b[31m   WARNING: This is a development server. Do not use it in a production deployment.\u001b[0m\n",
      "\u001b[2m   Use a production WSGI server instead.\u001b[0m\n",
      " * Debug mode: off\n"
     ]
    },
    {
     "name": "stderr",
     "output_type": "stream",
     "text": [
      " * Running on http://127.0.0.1:7000/ (Press CTRL+C to quit)\n",
      "127.0.0.1 - - [05/Jan/2023 00:44:53] \"GET / HTTP/1.1\" 200 -\n",
      "127.0.0.1 - - [05/Jan/2023 00:44:56] \"GET /favicon.ico HTTP/1.1\" 404 -\n"
     ]
    },
    {
     "name": "stdout",
     "output_type": "stream",
     "text": [
      "[12, 1, 0, 12222, 13, 12310, 3, 1, 12, 3, 123, 4, 1, 22, 123, 8, 1, 1, 16, 229, 12331, 3, 1, 1231, 3, 2130, 6, 1, 80, 10000]\n"
     ]
    },
    {
     "name": "stderr",
     "output_type": "stream",
     "text": [
      "127.0.0.1 - - [05/Jan/2023 00:45:45] \"POST /predict HTTP/1.1\" 200 -\n"
     ]
    },
    {
     "name": "stdout",
     "output_type": "stream",
     "text": [
      "-2758822564940\n",
      "14294711507177\n",
      "3382584331174\n",
      "not Default\n"
     ]
    }
   ],
   "source": [
    "import numpy as np\n",
    "from flask import Flask, request, render_template\n",
    "import pickle\n",
    "\n",
    "app = Flask(__name__)\n",
    "ngrok.set_auth_token(\"2JsI71INLFOAbfRa0adKzx4wXDH_2PR3mrME2ftQpHSqprEgF\")\n",
    "public_url=ngrok.connect(port_no).public_url\n",
    "print(f\"To access the global link please click {public_url}\")\n",
    "#model = pickle.load(open('rf.pkl', 'rb'))\n",
    "\n",
    "@app.route('/')\n",
    "def home():\n",
    "    return render_template('index.html')\n",
    "\n",
    "def ValuePredictor(to_predict_list):\n",
    "    to_predict = np.array(to_predict_list).reshape(1,30)\n",
    "    loaded_model = pickle.load(open(\"ensemble.pkl\", \"rb\"))\n",
    "    result = loaded_model.predict(to_predict)\n",
    "    return result[0]\n",
    "\n",
    "def ValuePredictor2(to_predict_list):\n",
    "    to_predict = np.array(to_predict_list).reshape(1,30)\n",
    "    loaded_model = pickle.load(open(\"linear.pkl\", \"rb\"))\n",
    "    result = loaded_model.predict(to_predict)\n",
    "    return result[0]\n",
    "@app.route('/predict', methods = ['POST'])\n",
    "def result():\n",
    "    if request.method == 'POST':\n",
    "        to_predict_list = request.form.to_dict()\n",
    "        \n",
    "        to_predict_list = list(to_predict_list.values())\n",
    "        to_predict_list = list(map(int, to_predict_list))\n",
    "        print(to_predict_list)\n",
    "        result1 = ValuePredictor(to_predict_list)  \n",
    "        result = ValuePredictor2(to_predict_list)\n",
    "        features = [np.array(result)]\n",
    "        var1 = int(features[0][0])\n",
    "        var2 = int(features[0][1])\n",
    "        var3 = int(features[0][2])\n",
    "        \n",
    "        print(var1)\n",
    "        print(var2)\n",
    "        print(var3)\n",
    "        if int(result1)== 0:\n",
    "            prediction ='not Default'\n",
    "            print(prediction)\n",
    "        else:\n",
    "            prediction ='Default'  \n",
    "            print(prediction)\n",
    "            \n",
    "    return render_template(\"index.html\",prediction_text='The Borrower is going to  {}'.format(prediction),\n",
    "                           prediction_EMI=' The EMI is {}'.format(var1),prediction_ROI=' The ROI is {}'.format(var2),\n",
    "                           prediction_ELA=' The ELA is {}'.format(var3))\n",
    "    print(result)\n",
    "if __name__ == \"__main__\":\n",
    "    app.run(port=port_no)"
   ]
  },
  {
   "cell_type": "code",
   "execution_count": 27,
   "id": "d93be1fd",
   "metadata": {},
   "outputs": [
    {
     "name": "stdout",
     "output_type": "stream",
     "text": [
      "<built-in method mro of type object at 0x000001B47AD7F760>\n"
     ]
    }
   ],
   "source": []
  }
 ],
 "metadata": {
  "kernelspec": {
   "display_name": "base",
   "language": "python",
   "name": "python3"
  },
  "language_info": {
   "codemirror_mode": {
    "name": "ipython",
    "version": 3
   },
   "file_extension": ".py",
   "mimetype": "text/x-python",
   "name": "python",
   "nbconvert_exporter": "python",
   "pygments_lexer": "ipython3",
   "version": "3.9.12 (main, Apr  4 2022, 05:22:27) [MSC v.1916 64 bit (AMD64)]"
  },
  "varInspector": {
   "cols": {
    "lenName": 16,
    "lenType": 16,
    "lenVar": 40
   },
   "kernels_config": {
    "python": {
     "delete_cmd_postfix": "",
     "delete_cmd_prefix": "del ",
     "library": "var_list.py",
     "varRefreshCmd": "print(var_dic_list())"
    },
    "r": {
     "delete_cmd_postfix": ") ",
     "delete_cmd_prefix": "rm(",
     "library": "var_list.r",
     "varRefreshCmd": "cat(var_dic_list()) "
    }
   },
   "types_to_exclude": [
    "module",
    "function",
    "builtin_function_or_method",
    "instance",
    "_Feature"
   ],
   "window_display": false
  },
  "vscode": {
   "interpreter": {
    "hash": "b9ed3a930106bc9d64cab54d85f264cf5d27acda2441008f0cbc8fc69b170baf"
   }
  }
 },
 "nbformat": 4,
 "nbformat_minor": 5
}
